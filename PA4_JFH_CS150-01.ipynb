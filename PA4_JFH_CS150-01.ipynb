{
 "cells": [
  {
   "cell_type": "markdown",
   "id": "3a89a8ae",
   "metadata": {},
   "source": [
    "# Task 1: Grade Calculator"
   ]
  },
  {
   "cell_type": "code",
   "execution_count": 2,
   "id": "511ed393",
   "metadata": {},
   "outputs": [
    {
     "name": "stdout",
     "output_type": "stream",
     "text": [
      "Average Grade: 31.4\n",
      "Letter Grade: 😱F😢\n"
     ]
    }
   ],
   "source": [
    "#list named grades.\n",
    "grades=[30,22,8,52,45]\n",
    "#Calculate the ave grade from the list.\n",
    "ave_grade=sum(grades)/len(grades)\n",
    "\n",
    "#Determine the letter grade.\n",
    "if 90<=ave_grade<=100:\n",
    "    letter_grade=\"A\"\n",
    "elif 80<=ave_grade<90:\n",
    "    letter_grade=\"B\"\n",
    "elif 70<=ave_grade<80:\n",
    "    letter_grade = \"C\"\n",
    "elif 60<=ave_grade<70:\n",
    "    letter_grade=\"D\"\n",
    "else:\n",
    "    letter_grade=\"😱F😢\"\n",
    "\n",
    "#Print the average grade and letter grade for Justin Harlow at the end of semester.\n",
    "print(\"Average Grade:\", ave_grade)\n",
    "print(\"Letter Grade:\", letter_grade)\n"
   ]
  },
  {
   "cell_type": "markdown",
   "id": "d59230e4",
   "metadata": {},
   "source": [
    "# Task 2: Tuple Unpacking"
   ]
  },
  {
   "cell_type": "code",
   "execution_count": 4,
   "id": "39936512",
   "metadata": {},
   "outputs": [
    {
     "name": "stdout",
     "output_type": "stream",
     "text": [
      "Justin Harlow is an adult.\n"
     ]
    }
   ],
   "source": [
    "#Create a tuple with your first name, last name, age, and a subject.\n",
    "student=(\"Justin\", \"Harlow\", 27, \"Physics\")\n",
    "#Unpack Tuple and 'if-else' the student's age. If >18 adult, else minor.\n",
    "first_name, last_name, age, subject = student\n",
    "if age > 18:\n",
    "    print(f\"{first_name} {last_name} is an adult.\")\n",
    "else:\n",
    "    print(f\"{first_name} {last_name} is a minor.\")\n"
   ]
  },
  {
   "cell_type": "markdown",
   "id": "ff3246ac",
   "metadata": {},
   "source": [
    "# Task 3: Month and date"
   ]
  },
  {
   "cell_type": "code",
   "execution_count": 2,
   "id": "7391e9f7",
   "metadata": {},
   "outputs": [
    {
     "name": "stdout",
     "output_type": "stream",
     "text": [
      "Enter a number from 1 to 12: 11\n",
      "The month is November and it has 30 days.\n"
     ]
    }
   ],
   "source": [
    "#Accept a number from 1 to 12\n",
    "month_num = int(input(\"Enter a number from 1 to 12: \"))\n",
    "#List of month names\n",
    "months = [\"January\", \"February\", \"March\", \"April\", \"May\", \"June\", \"July\", \"August\", \"September\", \"October\", \"November\", \"December\"]\n",
    "#Attach months to month number.\n",
    "if 1 <= month_num <= 12:\n",
    "    month_name = months[month_num - 1]\n",
    "    #Attach number of days in each month to months\n",
    "    days_in_month = [31, 28, 31, 30, 31, 30, 31, 31, 30, 31, 30, 31]\n",
    "    num_days = days_in_month[month_num - 1]\n",
    "    \n",
    "    print(f\"The month is {month_name} and it has {num_days} days.\")\n",
    "else:\n",
    "    print(\"Invalid input. Please enter a number from 1 to 12.\")\n",
    "    \n"
   ]
  },
  {
   "cell_type": "markdown",
   "id": "63833568",
   "metadata": {},
   "source": [
    "# Task 4: Triangle"
   ]
  },
  {
   "cell_type": "code",
   "execution_count": 3,
   "id": "6f44905f",
   "metadata": {},
   "outputs": [
    {
     "name": "stdout",
     "output_type": "stream",
     "text": [
      "Enter the length of the first side: 10\n",
      "Enter the length of the second side: 2\n",
      "Enter the length of the third side: 12\n",
      "The given side lengths do not form a valid triangle.\n"
     ]
    }
   ],
   "source": [
    "#Set the lengths of the three sides of the triangle\n",
    "side1 = float(input(\"Enter the length of the first side: \"))\n",
    "side2 = float(input(\"Enter the length of the second side: \"))\n",
    "side3 = float(input(\"Enter the length of the third side: \"))\n",
    "#Set the input forms\n",
    "if side1 + side2 > side3 and side1 + side3 > side2 and side2 + side3 > side1:\n",
    "    #Set equilateral, isosceles, or scalene triangle\n",
    "    if side1 == side2 == side3:\n",
    "        triangle_type = \"equilateral\"\n",
    "    elif side1 == side2 or side1 == side3 or side2 == side3:\n",
    "        triangle_type = \"isosceles\"\n",
    "    else:\n",
    "        triangle_type = \"scalene\"\n",
    "    \n",
    "    print(f\"The given triangle is a {triangle_type} triangle.\")\n",
    "else:\n",
    "    print(\"The given side lengths do not form a valid triangle.\")\n"
   ]
  },
  {
   "cell_type": "markdown",
   "id": "ca204703",
   "metadata": {},
   "source": [
    "# Task 5: List Comprehension and Filtering"
   ]
  },
  {
   "cell_type": "code",
   "execution_count": 5,
   "id": "ffa5b320",
   "metadata": {},
   "outputs": [
    {
     "name": "stdout",
     "output_type": "stream",
     "text": [
      "Selected Numbers: [21, 22, 23, 24, 25, 26, 27, 28, 29, 30, 31, 32, 33, 34, 35, 36, 37, 38, 39, 40]\n",
      "Squares of Even Numbers: [484, 576, 676, 784, 900, 1024, 1156, 1296, 1444, 1600]\n",
      "Cubes of Odd Numbers: [9261, 12167, 15625, 19683, 24389, 29791, 35937, 42875, 50653, 59319]\n"
     ]
    }
   ],
   "source": [
    "#List of named numbers containing integers from 21 to 40.\n",
    "numbers = list(range(21, 41))\n",
    "#list comp to create a new list named even_squares\n",
    "even_squares = [x**2 for x in numbers if x % 2 == 0]\n",
    "#list comp to create a new list named odd_cubes\n",
    "odd_cubes = [x**3 for x in numbers if x % 2 != 0]\n",
    "#Print the results\n",
    "print(\"Selected Numbers:\", numbers)\n",
    "print(\"Squares of Even Numbers:\", even_squares)\n",
    "print(\"Cubes of Odd Numbers:\", odd_cubes)\n"
   ]
  },
  {
   "cell_type": "markdown",
   "id": "fb8ffbe0",
   "metadata": {},
   "source": [
    "# Author"
   ]
  },
  {
   "cell_type": "code",
   "execution_count": null,
   "id": "cc301277",
   "metadata": {},
   "outputs": [],
   "source": [
    "#Justin Harlow\n",
    "#CS150 Fall 2023"
   ]
  }
 ],
 "metadata": {
  "kernelspec": {
   "display_name": "Python 3 (ipykernel)",
   "language": "python",
   "name": "python3"
  },
  "language_info": {
   "codemirror_mode": {
    "name": "ipython",
    "version": 3
   },
   "file_extension": ".py",
   "mimetype": "text/x-python",
   "name": "python",
   "nbconvert_exporter": "python",
   "pygments_lexer": "ipython3",
   "version": "3.11.4"
  }
 },
 "nbformat": 4,
 "nbformat_minor": 5
}
